{
    "nbformat_minor": 1, 
    "cells": [
        {
            "source": "#### Importing Necessary Libs", 
            "cell_type": "markdown", 
            "metadata": {}
        }, 
        {
            "source": "from bs4 import BeautifulSoup\nimport requests\nimport pandas as pd", 
            "cell_type": "code", 
            "metadata": {}, 
            "outputs": [], 
            "execution_count": 2
        }, 
        {
            "source": "### Create a class MP to store the column information", 
            "cell_type": "markdown", 
            "metadata": {}
        }, 
        {
            "source": "class MP:\n\n    def __init__(self, postal_code, borough, neighborhood):\n        self.postal_code = postal_code\n        self.borough = borough\n        self.neighborhood = neighborhood\n\n    def print(self):\n        print(self.postal_code + \" \" + self.borough + \" \" + self.neighborhood)", 
            "cell_type": "code", 
            "metadata": {}, 
            "outputs": [], 
            "execution_count": 3
        }, 
        {
            "source": "#### Requesting Html page and initializing variables", 
            "cell_type": "markdown", 
            "metadata": {}
        }, 
        {
            "source": "url_doc = requests.get('https://en.wikipedia.org/wiki/List_of_postal_codes_of_Canada:_M')\ndata = BeautifulSoup(url_doc.content, 'html.parser')\nlist_of_MP = []", 
            "cell_type": "code", 
            "metadata": {}, 
            "outputs": [], 
            "execution_count": 4
        }, 
        {
            "source": "#### Creating a list of extracted data ", 
            "cell_type": "markdown", 
            "metadata": {}
        }, 
        {
            "source": "for rows in data.table.findAll('tr'):\n    dt = []\n    index = 1\n    for col in rows.findAll('td'):\n        if col.get_text().strip() == \"Not assigned\" and index == 3:\n            dt.append(dt[index-2])\n        if col.get_text().strip() == \"Not assigned\":\n            continue\n        else:\n            dt.append(col.get_text().strip())\n        index += 1\n\n    if len(dt) == 3:\n        mp = MP(dt[0], dt[1], dt[2])\n        list_of_MP.append(mp)\n    dt.clear()", 
            "cell_type": "code", 
            "metadata": {}, 
            "outputs": [], 
            "execution_count": 5
        }, 
        {
            "source": "#### Removing Redundancy", 
            "cell_type": "markdown", 
            "metadata": {}
        }, 
        {
            "source": "for i in range(0, len(list_of_MP)-1):\n    j = i + 1\n    while j < len(list_of_MP):\n        try:\n            if list_of_MP[i].postal_code == list_of_MP[j].postal_code:\n                list_of_MP[i].neighborhood = list_of_MP[j].neighborhood + \", \" + list_of_MP[i].neighborhood\n                list_of_MP.pop(j)\n            else:\n                j += 1\n        except IndexError:\n            print(IndexError)", 
            "cell_type": "code", 
            "metadata": {}, 
            "outputs": [], 
            "execution_count": 6
        }, 
        {
            "source": "### Creating DataFrame", 
            "cell_type": "markdown", 
            "metadata": {}
        }, 
        {
            "source": "df = pd.DataFrame([(i.postal_code, i.borough, i.neighborhood) for i in list_of_MP], \n                  columns=['PostalCode', 'Borough', 'Neighborhood'])\ndf.head()", 
            "cell_type": "code", 
            "metadata": {}, 
            "outputs": [
                {
                    "output_type": "execute_result", 
                    "data": {
                        "text/html": "<div>\n<style scoped>\n    .dataframe tbody tr th:only-of-type {\n        vertical-align: middle;\n    }\n\n    .dataframe tbody tr th {\n        vertical-align: top;\n    }\n\n    .dataframe thead th {\n        text-align: right;\n    }\n</style>\n<table border=\"1\" class=\"dataframe\">\n  <thead>\n    <tr style=\"text-align: right;\">\n      <th></th>\n      <th>PostalCode</th>\n      <th>Borough</th>\n      <th>Neighborhood</th>\n    </tr>\n  </thead>\n  <tbody>\n    <tr>\n      <th>0</th>\n      <td>M3A</td>\n      <td>North York</td>\n      <td>Parkwoods</td>\n    </tr>\n    <tr>\n      <th>1</th>\n      <td>M4A</td>\n      <td>North York</td>\n      <td>Victoria Village</td>\n    </tr>\n    <tr>\n      <th>2</th>\n      <td>M5A</td>\n      <td>Downtown Toronto</td>\n      <td>Regent Park, Harbourfront</td>\n    </tr>\n    <tr>\n      <th>3</th>\n      <td>M6A</td>\n      <td>North York</td>\n      <td>Lawrence Manor, Lawrence Heights</td>\n    </tr>\n    <tr>\n      <th>4</th>\n      <td>M7A</td>\n      <td>Queen's Park</td>\n      <td>Queen's Park</td>\n    </tr>\n  </tbody>\n</table>\n</div>", 
                        "text/plain": "  PostalCode           Borough                      Neighborhood\n0        M3A        North York                         Parkwoods\n1        M4A        North York                  Victoria Village\n2        M5A  Downtown Toronto         Regent Park, Harbourfront\n3        M6A        North York  Lawrence Manor, Lawrence Heights\n4        M7A      Queen's Park                      Queen's Park"
                    }, 
                    "execution_count": 8, 
                    "metadata": {}
                }
            ], 
            "execution_count": 8
        }, 
        {
            "source": "df.shape", 
            "cell_type": "code", 
            "metadata": {}, 
            "outputs": [
                {
                    "output_type": "execute_result", 
                    "data": {
                        "text/plain": "(103, 3)"
                    }, 
                    "execution_count": 9, 
                    "metadata": {}
                }
            ], 
            "execution_count": 9
        }
    ], 
    "metadata": {
        "kernelspec": {
            "display_name": "Python 3.6 with Spark", 
            "name": "python36", 
            "language": "python3"
        }, 
        "language_info": {
            "mimetype": "text/x-python", 
            "nbconvert_exporter": "python", 
            "version": "3.6.8", 
            "name": "python", 
            "pygments_lexer": "ipython3", 
            "file_extension": ".py", 
            "codemirror_mode": {
                "version": 3, 
                "name": "ipython"
            }
        }
    }, 
    "nbformat": 4
}