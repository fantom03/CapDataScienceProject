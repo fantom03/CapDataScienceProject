{
    "nbformat_minor": 1, 
    "cells": [
        {
            "source": "#### Importing Necessary Libs", 
            "cell_type": "markdown", 
            "metadata": {}
        }, 
        {
            "execution_count": 2, 
            "cell_type": "code", 
            "metadata": {}, 
            "outputs": [], 
            "source": "from bs4 import BeautifulSoup\nimport requests\nimport pandas as pd"
        }, 
        {
            "source": "### Create a class MP to store the column information", 
            "cell_type": "markdown", 
            "metadata": {}
        }, 
        {
            "execution_count": 3, 
            "cell_type": "code", 
            "metadata": {}, 
            "outputs": [], 
            "source": "class MP:\n\n    def __init__(self, postal_code, borough, neighborhood):\n        self.postal_code = postal_code\n        self.borough = borough\n        self.neighborhood = neighborhood\n\n    def print(self):\n        print(self.postal_code + \" \" + self.borough + \" \" + self.neighborhood)"
        }, 
        {
            "source": "#### Requesting Html page and initializing variables", 
            "cell_type": "markdown", 
            "metadata": {}
        }, 
        {
            "execution_count": 4, 
            "cell_type": "code", 
            "metadata": {}, 
            "outputs": [], 
            "source": "url_doc = requests.get('https://en.wikipedia.org/wiki/List_of_postal_codes_of_Canada:_M')\ndata = BeautifulSoup(url_doc.content, 'html.parser')\nlist_of_MP = []"
        }, 
        {
            "source": "#### Creating a list of extracted data ", 
            "cell_type": "markdown", 
            "metadata": {}
        }, 
        {
            "execution_count": 5, 
            "cell_type": "code", 
            "metadata": {}, 
            "outputs": [], 
            "source": "for rows in data.table.findAll('tr'):\n    dt = []\n    index = 1\n    for col in rows.findAll('td'):\n        if col.get_text().strip() == \"Not assigned\" and index == 3:\n            dt.append(dt[index-2])\n        if col.get_text().strip() == \"Not assigned\":\n            continue\n        else:\n            dt.append(col.get_text().strip())\n        index += 1\n\n    if len(dt) == 3:\n        mp = MP(dt[0], dt[1], dt[2])\n        list_of_MP.append(mp)\n    dt.clear()"
        }, 
        {
            "source": "#### Removing Redundancy", 
            "cell_type": "markdown", 
            "metadata": {}
        }, 
        {
            "execution_count": 6, 
            "cell_type": "code", 
            "metadata": {}, 
            "outputs": [], 
            "source": "for i in range(0, len(list_of_MP)-1):\n    j = i + 1\n    while j < len(list_of_MP):\n        try:\n            if list_of_MP[i].postal_code == list_of_MP[j].postal_code:\n                list_of_MP[i].neighborhood = list_of_MP[j].neighborhood + \", \" + list_of_MP[i].neighborhood\n                list_of_MP.pop(j)\n            else:\n                j += 1\n        except IndexError:\n            print(IndexError)"
        }, 
        {
            "source": "### Creating DataFrame", 
            "cell_type": "markdown", 
            "metadata": {}
        }
    ], 
    "metadata": {
        "kernelspec": {
            "display_name": "Python 3.6 with Spark", 
            "name": "python36", 
            "language": "python3"
        }, 
        "language_info": {
            "mimetype": "text/x-python", 
            "nbconvert_exporter": "python", 
            "version": "3.6.8", 
            "name": "python", 
            "file_extension": ".py", 
            "pygments_lexer": "ipython3", 
            "codemirror_mode": {
                "version": 3, 
                "name": "ipython"
            }
        }
    }, 
    "nbformat": 4
}